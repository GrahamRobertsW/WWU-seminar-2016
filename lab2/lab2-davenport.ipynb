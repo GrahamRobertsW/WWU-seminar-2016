{
 "cells": [
  {
   "cell_type": "markdown",
   "metadata": {},
   "source": [
    "# Algorithms 1: Davenport \"Solution\""
   ]
  },
  {
   "cell_type": "code",
   "execution_count": 1,
   "metadata": {
    "collapsed": true
   },
   "outputs": [],
   "source": [
    "%matplotlib inline\n",
    "import numpy as np\n",
    "import matplotlib.pyplot as plt"
   ]
  },
  {
   "cell_type": "markdown",
   "metadata": {},
   "source": [
    "**Which constellation is a given point in?**\n",
    "\n",
    "A simplified approach from [Roman 1987](http://cdsads.u-strasbg.fr/abs/1987PASP...99..695R):\n",
    "http://vizier.cfa.harvard.edu/viz-bin/Cat?VI/42#sRM2.1"
   ]
  },
  {
   "cell_type": "code",
   "execution_count": 2,
   "metadata": {
    "collapsed": false,
    "scrolled": false
   },
   "outputs": [],
   "source": [
    "\n",
    "def constel_numpy(x,y):\n",
    "    \n",
    "    # read the data in every time (runtime overhead....)\n",
    "    RAl, RAu, Decl = np.loadtxt('data/data.txt', delimiter=',', usecols=(0,1,2), unpack=True)\n",
    "    names = np.loadtxt('data/data.txt', delimiter=',', usecols=(3,), unpack=True, dtype='str')\n",
    "    \n",
    "    # handle lists of coordinates\n",
    "    if np.size(x) > 1:\n",
    "        outname = []\n",
    "\n",
    "        for k in range(np.size(x)):\n",
    "\n",
    "            c1 = np.where((Decl <= y[k]))\n",
    "\n",
    "            c2 = np.where((RAu[c1] > x[k]))\n",
    "\n",
    "            c3 = np.where((RAl[c1][c2] <= x[k]))\n",
    "\n",
    "            outname = np.append(outname, names[c1][c2][c3][0])\n",
    "\n",
    "        return outname\n",
    "\n",
    "    # handle old-fashioned single coordinate case\n",
    "    else:\n",
    "        c1 = np.where((Decl <= y))\n",
    "\n",
    "        c2 = np.where((RAu[c1] > x))\n",
    "\n",
    "        c3 = np.where((RAl[c1][c2] <= x))\n",
    "\n",
    "        return names[c1][c2][c3][0]"
   ]
  },
  {
   "cell_type": "code",
   "execution_count": 3,
   "metadata": {
    "collapsed": false
   },
   "outputs": [
    {
     "data": {
      "text/plain": [
       "'LYR'"
      ]
     },
     "execution_count": 3,
     "metadata": {},
     "output_type": "execute_result"
    }
   ],
   "source": [
    "# vega\n",
    "ra=18.62\n",
    "dec=38.78\n",
    "\n",
    "constel_numpy(ra,dec)"
   ]
  },
  {
   "cell_type": "code",
   "execution_count": 4,
   "metadata": {
    "collapsed": false
   },
   "outputs": [
    {
     "data": {
      "text/plain": [
       "'APS'"
      ]
     },
     "execution_count": 4,
     "metadata": {},
     "output_type": "execute_result"
    }
   ],
   "source": [
    "# HD 129078 \n",
    "ra=14.78\n",
    "dec=-79.03\n",
    "\n",
    "constel_numpy(ra,dec)"
   ]
  },
  {
   "cell_type": "code",
   "execution_count": 5,
   "metadata": {
    "collapsed": false
   },
   "outputs": [
    {
     "data": {
      "text/plain": [
       "array(['LYR', 'APS'], \n",
       "      dtype='|S32')"
      ]
     },
     "execution_count": 5,
     "metadata": {},
     "output_type": "execute_result"
    }
   ],
   "source": [
    "ra = [18.62, 14.78]\n",
    "dec = [38.78, -79.03]\n",
    "\n",
    "constel_numpy(ra,dec)"
   ]
  },
  {
   "cell_type": "code",
   "execution_count": null,
   "metadata": {
    "collapsed": true
   },
   "outputs": [],
   "source": []
  }
 ],
 "metadata": {
  "kernelspec": {
   "display_name": "Python 2",
   "language": "python",
   "name": "python2"
  },
  "language_info": {
   "codemirror_mode": {
    "name": "ipython",
    "version": 2
   },
   "file_extension": ".py",
   "mimetype": "text/x-python",
   "name": "python",
   "nbconvert_exporter": "python",
   "pygments_lexer": "ipython2",
   "version": "2.7.10"
  }
 },
 "nbformat": 4,
 "nbformat_minor": 0
}
